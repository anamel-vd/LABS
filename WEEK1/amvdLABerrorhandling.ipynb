{
 "cells": [
  {
   "cell_type": "markdown",
   "id": "25d7736c-ba17-4aff-b6bb-66eba20fbf4e",
   "metadata": {},
   "source": [
    "# Lab | Error Handling"
   ]
  },
  {
   "cell_type": "markdown",
   "id": "bc99b386-7508-47a0-bcdb-d969deaf6c8b",
   "metadata": {},
   "source": [
    "## Exercise: Error Handling for Managing Customer Orders\n",
    "\n",
    "The implementation of your code for managing customer orders assumes that the user will always enter a valid input. \n",
    "\n",
    "For example, we could modify the `initialize_inventory` function to include error handling.\n",
    "   - If the user enters an invalid quantity (e.g., a negative value or a non-numeric value), display an error message and ask them to re-enter the quantity for that product.\n",
    "   - Use a try-except block to handle the error and continue prompting the user until a valid quantity is entered.\n",
    "\n",
    "```python\n",
    "# Step 1: Define the function for initializing the inventory with error handling\n",
    "def initialize_inventory(products):\n",
    "    inventory = {}\n",
    "    for product in products:\n",
    "        valid_quantity = False\n",
    "        while not valid_quantity:\n",
    "            try:\n",
    "                quantity = int(input(f\"Enter the quantity of {product}s available: \"))\n",
    "                if quantity < 0:\n",
    "                    raise ValueError(\"Invalid quantity! Please enter a non-negative value.\")\n",
    "                valid_quantity = True\n",
    "            except ValueError as error:\n",
    "                print(f\"Error: {error}\")\n",
    "        inventory[product] = quantity\n",
    "    return inventory\n",
    "\n",
    "# Or, in another way:\n",
    "\n",
    "def initialize_inventory(products):\n",
    "    inventory = {}\n",
    "    for product in products:\n",
    "        valid_input = False\n",
    "        while not valid_input:\n",
    "            try:\n",
    "                quantity = int(input(f\"Enter the quantity of {product}s available: \"))\n",
    "                if quantity >= 0:\n",
    "                    inventory[product] = quantity\n",
    "                    valid_input = True\n",
    "                else:\n",
    "                    print(\"Quantity cannot be negative. Please enter a valid quantity.\")\n",
    "            except ValueError:\n",
    "                print(\"Invalid input. Please enter a valid quantity.\")\n",
    "    return inventory\n",
    "```\n",
    "\n",
    "Let's enhance your code by implementing error handling to handle invalid inputs.\n",
    "\n",
    "Follow the steps below to complete the exercise:\n",
    "\n",
    "2. Modify the `calculate_total_price` function to include error handling.\n",
    "   - If the user enters an invalid price (e.g., a negative value or a non-numeric value), display an error message and ask them to re-enter the price for that product.\n",
    "   - Use a try-except block to handle the error and continue prompting the user until a valid price is entered.\n",
    "\n",
    "3. Modify the `get_customer_orders` function to include error handling.\n",
    "   - If the user enters an invalid number of orders (e.g., a negative value or a non-numeric value), display an error message and ask them to re-enter the number of orders.\n",
    "   - If the user enters an invalid product name (e.g., a product name that is not in the inventory), or that doesn't have stock available, display an error message and ask them to re-enter the product name. *Hint: you will need to pass inventory as a parameter*\n",
    "   - Use a try-except block to handle the error and continue prompting the user until a valid product name is entered.\n",
    "\n",
    "4. Test your code by running the program and deliberately entering invalid quantities and product names. Make sure the error handling mechanism works as expected.\n"
   ]
  },
  {
   "cell_type": "code",
   "execution_count": 14,
   "id": "2176dd9d",
   "metadata": {},
   "outputs": [],
   "source": [
    "'''Modify the calculate_total_price function to include error handling.\n",
    "\n",
    "If the user enters an invalid price (e.g., a negative value or a non-numeric value), \n",
    "display an error message and ask them to re-enter the price for that product.\n",
    "Use a try-except block to handle the error and continue prompting the user until a valid price is entered.'''\n",
    "\n",
    "# Step 1: Define the function for initializing the inventory with error handling\n",
    "def initialize_inventory(products):\n",
    "    inventory = {}\n",
    "    for product in products:\n",
    "        valid_quantity = False\n",
    "        while not valid_quantity:\n",
    "            try:\n",
    "                quantity = int(input(f\"Enter the quantity of {product}s available: \"))\n",
    "                if quantity < 0:\n",
    "                    raise ValueError(\"Invalid quantity! Please enter a non-negative value.\")\n",
    "                valid_quantity = True\n",
    "            except ValueError as error:\n",
    "                print(f\"Error: {error}\")\n",
    "        inventory[product] = quantity\n",
    "    return inventory\n"
   ]
  },
  {
   "cell_type": "code",
   "execution_count": 17,
   "id": "718c93bd",
   "metadata": {},
   "outputs": [
    {
     "name": "stdout",
     "output_type": "stream",
     "text": [
      "Enter the quantity of t-shirts available: k\n",
      "Error: invalid literal for int() with base 10: 'k'\n",
      "Enter the quantity of t-shirts available: 8\n",
      "Enter the quantity of mugs available: 9\n",
      "Enter the quantity of hats available: 5\n",
      "Enter the quantity of books available: 8\n",
      "Enter the quantity of keychains available: 9\n",
      "{'t-shirt': 8, 'mug': 9, 'hat': 5, 'book': 8, 'keychain': 9}\n"
     ]
    }
   ],
   "source": [
    "import statistics as stats\n",
    "\n",
    "my_inventory = initialize_inventory([\"t-shirt\", \"mug\", \"hat\", \"book\", \"keychain\"])\n",
    "print(my_inventory)\n"
   ]
  },
  {
   "cell_type": "code",
   "execution_count": null,
   "id": "02e5f07a",
   "metadata": {},
   "outputs": [],
   "source": [
    "my_inventory = initialize_inventory([\"t-shirt\", \"mug\", \"hat\", \"book\", \"keychain\"])\n",
    "print(my_inventory)\n"
   ]
  },
  {
   "cell_type": "code",
   "execution_count": null,
   "id": "baf581a8",
   "metadata": {},
   "outputs": [],
   "source": [
    "'''Modify the get_customer_orders function to include error handling.\n",
    "\n",
    "If the user enters an invalid number of orders (e.g., a negative value or a non-numeric value), \n",
    "display an error message and ask them to re-enter the number of orders.\n",
    "If the user enters an invalid product name (e.g., a product name that is not in the inventory), \n",
    "or that doesn't have stock available, display an error message and ask them to re-enter the product name. \n",
    "Hint: you will need to pass inventory as a parameter\n",
    "Use a try-except block to handle the error and continue prompting the user until a valid product name is entered.'''"
   ]
  },
  {
   "cell_type": "code",
   "execution_count": null,
   "id": "d9404475",
   "metadata": {},
   "outputs": [],
   "source": [
    "def get_customer_orders(inventory):\n",
    "    orders = {}\n",
    "    while True:\n",
    "        try:\n",
    "            num_orders = int(input(\"Enter the number of orders (0 to finish): \"))\n",
    "            if num_orders < 0:\n",
    "                raise ValueError(\"Invalid number of orders! Please enter a non-negative value.\")\n",
    "            \n",
    "            if num_orders == 0:\n",
    "                break  # Exit the loop if the user enters 0\n",
    "            \n",
    "            for _ in range(num_orders):\n",
    "                valid_product = False\n",
    "                while not valid_product:\n",
    "                    try:\n",
    "                        product = input(\"Enter the product name: \")\n",
    "                        if product not in inventory or inventory[product] == 0:\n",
    "                            raise ValueError(f\"Invalid product name! '{product}' not in inventory or out of stock.\")\n",
    "                        \n",
    "                        valid_product = True\n",
    "                    except ValueError as product_error:\n",
    "                        print(f\"Error: {product_error}\")\n",
    "                \n",
    "                if product in orders:\n",
    "                    orders[product] += 1\n",
    "                else:\n",
    "                    orders[product] = 1\n",
    "        except ValueError as orders_error:\n",
    "            print(f\"Error: {orders_error}\")\n",
    "    \n",
    "    return orders\n",
    "\n",
    "\n",
    "get_customer_orders\n"
   ]
  },
  {
   "cell_type": "code",
   "execution_count": null,
   "id": "f4ea7036",
   "metadata": {},
   "outputs": [],
   "source": [
    "my_inventory = {'t-shirt': 5, 'mug': 10, 'hat': 3, 'book': 7, 'keychain': 0}\n",
    "customer_orders = get_customer_orders(my_inventory)\n",
    "print(\"Customer Orders:\", customer_orders)"
   ]
  },
  {
   "cell_type": "code",
   "execution_count": null,
   "id": "8b1575b5",
   "metadata": {},
   "outputs": [],
   "source": [
    "'''Test your code by running the program and deliberately entering invalid quantities and product names. \n",
    "Make sure the error handling mechanism works as expected.'''"
   ]
  }
 ],
 "metadata": {
  "kernelspec": {
   "display_name": "Python 3 (ipykernel)",
   "language": "python",
   "name": "python3"
  },
  "language_info": {
   "codemirror_mode": {
    "name": "ipython",
    "version": 3
   },
   "file_extension": ".py",
   "mimetype": "text/x-python",
   "name": "python",
   "nbconvert_exporter": "python",
   "pygments_lexer": "ipython3",
   "version": "3.11.5"
  }
 },
 "nbformat": 4,
 "nbformat_minor": 5
}
