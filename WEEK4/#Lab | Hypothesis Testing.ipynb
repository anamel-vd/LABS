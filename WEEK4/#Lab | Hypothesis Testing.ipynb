{
 "cells": [
  {
   "cell_type": "markdown",
   "id": "0e58bf0a",
   "metadata": {},
   "source": [
    "#Lab | Hypothesis Testing"
   ]
  },
  {
   "cell_type": "markdown",
   "id": "d78ab891",
   "metadata": {},
   "source": [
    "**Instructions\n",
    "\n",
    "It is assumed that the mean systolic blood pressure is μ = 120 mm Hg. In the Honolulu Heart Study, a sample of n = 100 people had an average systolic blood pressure of 130.1 mm Hg with a standard deviation of 21.21 mm Hg. Is the group significantly different (with respect to systolic blood pressure!) from the regular population?\n",
    "\n",
    "-- Set up the hypothesis test.\n",
    "-- Write down all the steps followed for setting up the test.\n",
    "-- Calculate the test statistic by hand and also code it in Python. It should be 4.76190. \n",
    "-- What decision can you make based on this calculated value?\n"
   ]
  },
  {
   "cell_type": "code",
   "execution_count": 9,
   "id": "ec7b1fd6",
   "metadata": {},
   "outputs": [],
   "source": [
    "#Set up the hypothesis test. "
   ]
  },
  {
   "cell_type": "code",
   "execution_count": 17,
   "id": "12060d95",
   "metadata": {},
   "outputs": [],
   "source": [
    "import numpy as np\n",
    "import pandas as pd\n",
    "import scipy.stats as stats\n",
    "import matplotlib.pyplot as plt\n",
    "import seaborn as sns\n",
    "\n",
    "%matplotlib inline"
   ]
  },
  {
   "cell_type": "code",
   "execution_count": 27,
   "id": "d782d7d6",
   "metadata": {},
   "outputs": [],
   "source": [
    "population_mean = 120\n",
    "sample_mean = 130.1\n",
    "standard_deviation = 21.21 \n",
    "sample_size = 100\n"
   ]
  },
  {
   "cell_type": "markdown",
   "id": "9cd15768",
   "metadata": {},
   "source": [
    "#Problem statement\n",
    "\n",
    "Null Hypothesis : The mean systolic blood pressure in the study group is equal to the population mean (μ=120).\n",
    "Alternative Hypothesis : The mean systolic blood pressure in the study group is significantly different from the population mean (120μ).\n"
   ]
  },
  {
   "cell_type": "code",
   "execution_count": 28,
   "id": "2ca32940",
   "metadata": {},
   "outputs": [
    {
     "name": "stdout",
     "output_type": "stream",
     "text": [
      "Our z score is: 4.76\n"
     ]
    }
   ],
   "source": [
    "z = ( sample_mean - population_mean ) / ( standard_deviation / np.sqrt(100) )\n",
    "print(\"Our z score is: {:.2f}\".format(z))"
   ]
  },
  {
   "cell_type": "code",
   "execution_count": 29,
   "id": "ba48ae3d",
   "metadata": {},
   "outputs": [
    {
     "name": "stdout",
     "output_type": "stream",
     "text": [
      "Our zc score is: 1.96\n"
     ]
    }
   ],
   "source": [
    "zc = stats.norm.ppf(1-(0.05/2))\n",
    "print(\"Our zc score is: {:.2f}\".format(zc))"
   ]
  },
  {
   "cell_type": "code",
   "execution_count": 1,
   "id": "ece3bfab",
   "metadata": {},
   "outputs": [],
   "source": [
    "# We can say we reject the Null Hypothesis. "
   ]
  },
  {
   "cell_type": "markdown",
   "id": "428f4c5e",
   "metadata": {},
   "source": [
    "** Comparing the z-score to the critical value: ∣4.76∣≫1.96\n",
    "\n",
    "Conclusion:\n",
    "Since the absolute value of the z-score is much greater than the critical value, the null hypothesis is rejected. This suggests that the mean systolic blood pressure in the study group is significantly different from the regular population.\n",
    "\n"
   ]
  },
  {
   "cell_type": "code",
   "execution_count": null,
   "id": "b4cc67d1",
   "metadata": {},
   "outputs": [],
   "source": []
  }
 ],
 "metadata": {
  "kernelspec": {
   "display_name": "Python 3 (ipykernel)",
   "language": "python",
   "name": "python3"
  },
  "language_info": {
   "codemirror_mode": {
    "name": "ipython",
    "version": 3
   },
   "file_extension": ".py",
   "mimetype": "text/x-python",
   "name": "python",
   "nbconvert_exporter": "python",
   "pygments_lexer": "ipython3",
   "version": "3.11.5"
  }
 },
 "nbformat": 4,
 "nbformat_minor": 5
}
