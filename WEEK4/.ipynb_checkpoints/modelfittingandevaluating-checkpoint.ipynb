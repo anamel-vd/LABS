{
 "cells": [
  {
   "cell_type": "markdown",
   "id": "1d826b59",
   "metadata": {},
   "source": [
    "**Linear Regression**"
   ]
  },
  {
   "cell_type": "code",
   "execution_count": 35,
   "id": "3bcb18b2",
   "metadata": {},
   "outputs": [],
   "source": [
    "import pandas as pd\n",
    "from sklearn.model_selection import train_test_split\n",
    "from sklearn.linear_model import LinearRegression\n",
    "from sklearn.metrics import mean_squared_error\n",
    "from sklearn.preprocessing import StandardScaler\n",
    "import seaborn as sns"
   ]
  },
  {
   "cell_type": "code",
   "execution_count": 36,
   "id": "c2696f37",
   "metadata": {},
   "outputs": [],
   "source": [
    "mng_df = pd.read_csv('/Users/ana/Desktop/marketing.csv') "
   ]
  },
  {
   "cell_type": "code",
   "execution_count": 37,
   "id": "f30fed58",
   "metadata": {},
   "outputs": [],
   "source": [
    "categorical_df = mng_df.select_dtypes(include = 'category')"
   ]
  },
  {
   "cell_type": "code",
   "execution_count": 38,
   "id": "cc471484",
   "metadata": {},
   "outputs": [],
   "source": [
    "categoricals_encoded = pd.get_dummies(mng_df, columns=categorical_df, drop_first=True, dtype = int)"
   ]
  },
  {
   "cell_type": "code",
   "execution_count": 39,
   "id": "8a398b43",
   "metadata": {},
   "outputs": [],
   "source": [
    "numerical_df = mng_df.select_dtypes(include = 'number')"
   ]
  },
  {
   "cell_type": "code",
   "execution_count": 40,
   "id": "0de63d6c",
   "metadata": {},
   "outputs": [
    {
     "name": "stdout",
     "output_type": "stream",
     "text": [
      "       unnamed:_0  customer_lifetime_value  income  monthly_premium_auto  \\\n",
      "0               0              4809.216960   48029                    61   \n",
      "1               1              2228.525238       0                    64   \n",
      "2               2             14947.917300   22139                   100   \n",
      "3               3             22332.439460   49078                    97   \n",
      "4               4              9025.067525   23675                   117   \n",
      "...           ...                      ...     ...                   ...   \n",
      "10905       10905             15563.369440       0                   253   \n",
      "10906       10906              5259.444853   61146                    65   \n",
      "10907       10907             23893.304100   39837                   201   \n",
      "10908       10908             11971.977650   64195                   158   \n",
      "10909       10909              6857.519928       0                   101   \n",
      "\n",
      "       months_since_last_claim  months_since_policy_inception  \\\n",
      "0                     7.000000                             52   \n",
      "1                     3.000000                             26   \n",
      "2                    34.000000                             31   \n",
      "3                    10.000000                              3   \n",
      "4                    15.149071                             31   \n",
      "...                        ...                            ...   \n",
      "10905                15.149071                             40   \n",
      "10906                 7.000000                             68   \n",
      "10907                11.000000                             63   \n",
      "10908                 0.000000                             27   \n",
      "10909                31.000000                              1   \n",
      "\n",
      "       number_of_open_complaints  number_of_policies  total_claim_amount  \\\n",
      "0                       0.000000                   9          292.800000   \n",
      "1                       0.000000                   1          744.924331   \n",
      "2                       0.000000                   2          480.000000   \n",
      "3                       0.000000                   2          484.013411   \n",
      "4                       0.384256                   7          707.925645   \n",
      "...                          ...                 ...                 ...   \n",
      "10905                   0.384256                   7         1214.400000   \n",
      "10906                   0.000000                   6          273.018929   \n",
      "10907                   0.000000                   2          381.306996   \n",
      "10908                   4.000000                   6          618.288849   \n",
      "10909                   0.000000                   3         1021.719397   \n",
      "\n",
      "       month  \n",
      "0          2  \n",
      "1          1  \n",
      "2          2  \n",
      "3          1  \n",
      "4          1  \n",
      "...      ...  \n",
      "10905      1  \n",
      "10906      1  \n",
      "10907      2  \n",
      "10908      2  \n",
      "10909      1  \n",
      "\n",
      "[10910 rows x 10 columns]\n"
     ]
    }
   ],
   "source": [
    "print(numerical_df)"
   ]
  },
  {
   "cell_type": "code",
   "execution_count": 41,
   "id": "36cb7c46",
   "metadata": {},
   "outputs": [
    {
     "data": {
      "text/html": [
       "<div>\n",
       "<style scoped>\n",
       "    .dataframe tbody tr th:only-of-type {\n",
       "        vertical-align: middle;\n",
       "    }\n",
       "\n",
       "    .dataframe tbody tr th {\n",
       "        vertical-align: top;\n",
       "    }\n",
       "\n",
       "    .dataframe thead th {\n",
       "        text-align: right;\n",
       "    }\n",
       "</style>\n",
       "<table border=\"1\" class=\"dataframe\">\n",
       "  <thead>\n",
       "    <tr style=\"text-align: right;\">\n",
       "      <th></th>\n",
       "      <th>unnamed:_0</th>\n",
       "      <th>customer_lifetime_value</th>\n",
       "      <th>income</th>\n",
       "      <th>monthly_premium_auto</th>\n",
       "      <th>months_since_last_claim</th>\n",
       "      <th>months_since_policy_inception</th>\n",
       "      <th>number_of_open_complaints</th>\n",
       "      <th>number_of_policies</th>\n",
       "      <th>total_claim_amount</th>\n",
       "      <th>month</th>\n",
       "    </tr>\n",
       "  </thead>\n",
       "  <tbody>\n",
       "    <tr>\n",
       "      <th>0</th>\n",
       "      <td>0</td>\n",
       "      <td>4809.216960</td>\n",
       "      <td>48029</td>\n",
       "      <td>61</td>\n",
       "      <td>7.000000</td>\n",
       "      <td>52</td>\n",
       "      <td>0.000000</td>\n",
       "      <td>9</td>\n",
       "      <td>292.800000</td>\n",
       "      <td>2</td>\n",
       "    </tr>\n",
       "    <tr>\n",
       "      <th>1</th>\n",
       "      <td>1</td>\n",
       "      <td>2228.525238</td>\n",
       "      <td>0</td>\n",
       "      <td>64</td>\n",
       "      <td>3.000000</td>\n",
       "      <td>26</td>\n",
       "      <td>0.000000</td>\n",
       "      <td>1</td>\n",
       "      <td>744.924331</td>\n",
       "      <td>1</td>\n",
       "    </tr>\n",
       "    <tr>\n",
       "      <th>2</th>\n",
       "      <td>2</td>\n",
       "      <td>14947.917300</td>\n",
       "      <td>22139</td>\n",
       "      <td>100</td>\n",
       "      <td>34.000000</td>\n",
       "      <td>31</td>\n",
       "      <td>0.000000</td>\n",
       "      <td>2</td>\n",
       "      <td>480.000000</td>\n",
       "      <td>2</td>\n",
       "    </tr>\n",
       "    <tr>\n",
       "      <th>3</th>\n",
       "      <td>3</td>\n",
       "      <td>22332.439460</td>\n",
       "      <td>49078</td>\n",
       "      <td>97</td>\n",
       "      <td>10.000000</td>\n",
       "      <td>3</td>\n",
       "      <td>0.000000</td>\n",
       "      <td>2</td>\n",
       "      <td>484.013411</td>\n",
       "      <td>1</td>\n",
       "    </tr>\n",
       "    <tr>\n",
       "      <th>4</th>\n",
       "      <td>4</td>\n",
       "      <td>9025.067525</td>\n",
       "      <td>23675</td>\n",
       "      <td>117</td>\n",
       "      <td>15.149071</td>\n",
       "      <td>31</td>\n",
       "      <td>0.384256</td>\n",
       "      <td>7</td>\n",
       "      <td>707.925645</td>\n",
       "      <td>1</td>\n",
       "    </tr>\n",
       "    <tr>\n",
       "      <th>...</th>\n",
       "      <td>...</td>\n",
       "      <td>...</td>\n",
       "      <td>...</td>\n",
       "      <td>...</td>\n",
       "      <td>...</td>\n",
       "      <td>...</td>\n",
       "      <td>...</td>\n",
       "      <td>...</td>\n",
       "      <td>...</td>\n",
       "      <td>...</td>\n",
       "    </tr>\n",
       "    <tr>\n",
       "      <th>10905</th>\n",
       "      <td>10905</td>\n",
       "      <td>15563.369440</td>\n",
       "      <td>0</td>\n",
       "      <td>253</td>\n",
       "      <td>15.149071</td>\n",
       "      <td>40</td>\n",
       "      <td>0.384256</td>\n",
       "      <td>7</td>\n",
       "      <td>1214.400000</td>\n",
       "      <td>1</td>\n",
       "    </tr>\n",
       "    <tr>\n",
       "      <th>10906</th>\n",
       "      <td>10906</td>\n",
       "      <td>5259.444853</td>\n",
       "      <td>61146</td>\n",
       "      <td>65</td>\n",
       "      <td>7.000000</td>\n",
       "      <td>68</td>\n",
       "      <td>0.000000</td>\n",
       "      <td>6</td>\n",
       "      <td>273.018929</td>\n",
       "      <td>1</td>\n",
       "    </tr>\n",
       "    <tr>\n",
       "      <th>10907</th>\n",
       "      <td>10907</td>\n",
       "      <td>23893.304100</td>\n",
       "      <td>39837</td>\n",
       "      <td>201</td>\n",
       "      <td>11.000000</td>\n",
       "      <td>63</td>\n",
       "      <td>0.000000</td>\n",
       "      <td>2</td>\n",
       "      <td>381.306996</td>\n",
       "      <td>2</td>\n",
       "    </tr>\n",
       "    <tr>\n",
       "      <th>10908</th>\n",
       "      <td>10908</td>\n",
       "      <td>11971.977650</td>\n",
       "      <td>64195</td>\n",
       "      <td>158</td>\n",
       "      <td>0.000000</td>\n",
       "      <td>27</td>\n",
       "      <td>4.000000</td>\n",
       "      <td>6</td>\n",
       "      <td>618.288849</td>\n",
       "      <td>2</td>\n",
       "    </tr>\n",
       "    <tr>\n",
       "      <th>10909</th>\n",
       "      <td>10909</td>\n",
       "      <td>6857.519928</td>\n",
       "      <td>0</td>\n",
       "      <td>101</td>\n",
       "      <td>31.000000</td>\n",
       "      <td>1</td>\n",
       "      <td>0.000000</td>\n",
       "      <td>3</td>\n",
       "      <td>1021.719397</td>\n",
       "      <td>1</td>\n",
       "    </tr>\n",
       "  </tbody>\n",
       "</table>\n",
       "<p>10910 rows × 10 columns</p>\n",
       "</div>"
      ],
      "text/plain": [
       "       unnamed:_0  customer_lifetime_value  income  monthly_premium_auto  \\\n",
       "0               0              4809.216960   48029                    61   \n",
       "1               1              2228.525238       0                    64   \n",
       "2               2             14947.917300   22139                   100   \n",
       "3               3             22332.439460   49078                    97   \n",
       "4               4              9025.067525   23675                   117   \n",
       "...           ...                      ...     ...                   ...   \n",
       "10905       10905             15563.369440       0                   253   \n",
       "10906       10906              5259.444853   61146                    65   \n",
       "10907       10907             23893.304100   39837                   201   \n",
       "10908       10908             11971.977650   64195                   158   \n",
       "10909       10909              6857.519928       0                   101   \n",
       "\n",
       "       months_since_last_claim  months_since_policy_inception  \\\n",
       "0                     7.000000                             52   \n",
       "1                     3.000000                             26   \n",
       "2                    34.000000                             31   \n",
       "3                    10.000000                              3   \n",
       "4                    15.149071                             31   \n",
       "...                        ...                            ...   \n",
       "10905                15.149071                             40   \n",
       "10906                 7.000000                             68   \n",
       "10907                11.000000                             63   \n",
       "10908                 0.000000                             27   \n",
       "10909                31.000000                              1   \n",
       "\n",
       "       number_of_open_complaints  number_of_policies  total_claim_amount  \\\n",
       "0                       0.000000                   9          292.800000   \n",
       "1                       0.000000                   1          744.924331   \n",
       "2                       0.000000                   2          480.000000   \n",
       "3                       0.000000                   2          484.013411   \n",
       "4                       0.384256                   7          707.925645   \n",
       "...                          ...                 ...                 ...   \n",
       "10905                   0.384256                   7         1214.400000   \n",
       "10906                   0.000000                   6          273.018929   \n",
       "10907                   0.000000                   2          381.306996   \n",
       "10908                   4.000000                   6          618.288849   \n",
       "10909                   0.000000                   3         1021.719397   \n",
       "\n",
       "       month  \n",
       "0          2  \n",
       "1          1  \n",
       "2          2  \n",
       "3          1  \n",
       "4          1  \n",
       "...      ...  \n",
       "10905      1  \n",
       "10906      1  \n",
       "10907      2  \n",
       "10908      2  \n",
       "10909      1  \n",
       "\n",
       "[10910 rows x 10 columns]"
      ]
     },
     "execution_count": 41,
     "metadata": {},
     "output_type": "execute_result"
    }
   ],
   "source": [
    "numerical_df"
   ]
  },
  {
   "cell_type": "markdown",
   "id": "e4e89054",
   "metadata": {},
   "source": [
    "\n",
    "**X-y split (y is the target variable, in this case, \"total claim amount\")**\n",
    "****Train-test split.**\n"
   ]
  },
  {
   "cell_type": "code",
   "execution_count": 42,
   "id": "3668bcad",
   "metadata": {},
   "outputs": [],
   "source": [
    "target = 'total_claim_amount'\n",
    "X = numerical_df.drop(target, axis=1)\n",
    "y = numerical_df[target]"
   ]
  },
  {
   "cell_type": "code",
   "execution_count": 43,
   "id": "1f93f09a",
   "metadata": {},
   "outputs": [],
   "source": [
    "X_train, X_test, y_train, y_test = train_test_split(X, y, test_size=0.2, random_state=42)"
   ]
  },
  {
   "cell_type": "code",
   "execution_count": 44,
   "id": "8566b53d",
   "metadata": {},
   "outputs": [
    {
     "name": "stdout",
     "output_type": "stream",
     "text": [
      "      unnamed:_0  customer_lifetime_value  income  monthly_premium_auto  \\\n",
      "3105        3105              4665.129599       0                    62   \n",
      "6032        6032             10288.924950   96337                   127   \n",
      "157          157              4873.436612   18866                   126   \n",
      "6964        6964              6944.739992       0                    68   \n",
      "6349        6349              2472.469209   63860                    62   \n",
      "...          ...                      ...     ...                   ...   \n",
      "5734        5734              3810.238281       0                   108   \n",
      "5191        5191              3815.851163   38651                    98   \n",
      "5390        5390              7850.590399       0                    69   \n",
      "860          860              4974.235309       0                    70   \n",
      "7270        7270             38055.209530       0                   115   \n",
      "\n",
      "      months_since_last_claim  months_since_policy_inception  \\\n",
      "3105                     26.0                             62   \n",
      "6032                     19.0                             12   \n",
      "157                       4.0                             62   \n",
      "6964                     24.0                             31   \n",
      "6349                     26.0                             81   \n",
      "...                       ...                            ...   \n",
      "5734                      7.0                             57   \n",
      "5191                     12.0                             83   \n",
      "5390                      5.0                             78   \n",
      "860                      18.0                             74   \n",
      "7270                     21.0                             78   \n",
      "\n",
      "      number_of_open_complaints  number_of_policies  month  \n",
      "3105                        0.0                   3      2  \n",
      "6032                        0.0                   3      1  \n",
      "157                         0.0                   1      1  \n",
      "6964                        0.0                   2      1  \n",
      "6349                        0.0                   1      1  \n",
      "...                         ...                 ...    ...  \n",
      "5734                        0.0                   1      2  \n",
      "5191                        0.0                   1      1  \n",
      "5390                        0.0                   2      2  \n",
      "860                         0.0                   3      2  \n",
      "7270                        0.0                   2      2  \n",
      "\n",
      "[8728 rows x 9 columns]\n",
      "       unnamed:_0  customer_lifetime_value  income  monthly_premium_auto  \\\n",
      "4829         4829              5793.157728   95733                    72   \n",
      "5081         5081              2877.354255   32807                    73   \n",
      "5011         5011              2161.685527       0                    67   \n",
      "4625         4625              9217.130629   73259                   115   \n",
      "3838         3838             22762.214790   70521                    63   \n",
      "...           ...                      ...     ...                   ...   \n",
      "3819         3819              3543.232138   35695                    90   \n",
      "10089       10089             11315.203730   11885                   101   \n",
      "8740         8740             16979.797570   35095                    73   \n",
      "7831         7831              5534.821886   81945                    68   \n",
      "6075         6075              5229.741907   77357                    67   \n",
      "\n",
      "       months_since_last_claim  months_since_policy_inception  \\\n",
      "4829                 19.000000                             82   \n",
      "5081                 15.149071                             10   \n",
      "5011                 33.000000                             75   \n",
      "4625                  7.000000                             31   \n",
      "3838                 13.000000                             26   \n",
      "...                        ...                            ...   \n",
      "3819                  2.000000                              7   \n",
      "10089                18.000000                             39   \n",
      "8740                 25.000000                             56   \n",
      "7831                 19.000000                             45   \n",
      "6075                 24.000000                             38   \n",
      "\n",
      "       number_of_open_complaints  number_of_policies  month  \n",
      "4829                    0.000000                   3      2  \n",
      "5081                    0.384256                   1      1  \n",
      "5011                    2.000000                   1      2  \n",
      "4625                    0.000000                   4      2  \n",
      "3838                    0.000000                   2      2  \n",
      "...                          ...                 ...    ...  \n",
      "3819                    0.000000                   1      2  \n",
      "10089                   0.000000                   2      2  \n",
      "8740                    0.000000                   2      1  \n",
      "7831                    0.000000                   9      1  \n",
      "6075                    0.000000                   8      2  \n",
      "\n",
      "[2182 rows x 9 columns]\n",
      "3105    297.600000\n",
      "6032    609.600000\n",
      "157     604.800000\n",
      "6964    489.600000\n",
      "6349    208.598246\n",
      "           ...    \n",
      "5734    777.600000\n",
      "5191    470.400000\n",
      "5390    331.200000\n",
      "860     336.000000\n",
      "7270    552.000000\n",
      "Name: total_claim_amount, Length: 8728, dtype: float64\n",
      "4829     475.423848\n",
      "5081     350.400000\n",
      "5011     482.400000\n",
      "4625     673.342650\n",
      "3838     302.400000\n",
      "            ...    \n",
      "3819     432.000000\n",
      "10089    484.800000\n",
      "8740     525.600000\n",
      "7831      47.451832\n",
      "6075      29.884537\n",
      "Name: total_claim_amount, Length: 2182, dtype: float64\n"
     ]
    }
   ],
   "source": [
    "print(X_train)\n",
    "print(X_test)\n",
    "print(y_train)\n",
    "print(y_test)"
   ]
  },
  {
   "cell_type": "markdown",
   "id": "dd942d7a",
   "metadata": {},
   "source": [
    "**Standardize the data (after the data split!).**\n"
   ]
  },
  {
   "cell_type": "code",
   "execution_count": 45,
   "id": "8af5dd5e",
   "metadata": {},
   "outputs": [],
   "source": [
    "scaler = StandardScaler()\n",
    "X_train_scaled = scaler.fit_transform(X_train)\n",
    "X_test_scaled = scaler.transform(X_test)"
   ]
  },
  {
   "cell_type": "markdown",
   "id": "0dcb06e6",
   "metadata": {},
   "source": [
    "**Apply linear regression.**\n"
   ]
  },
  {
   "cell_type": "code",
   "execution_count": 46,
   "id": "e2f24987",
   "metadata": {},
   "outputs": [
    {
     "data": {
      "text/html": [
       "<style>#sk-container-id-1 {color: black;}#sk-container-id-1 pre{padding: 0;}#sk-container-id-1 div.sk-toggleable {background-color: white;}#sk-container-id-1 label.sk-toggleable__label {cursor: pointer;display: block;width: 100%;margin-bottom: 0;padding: 0.3em;box-sizing: border-box;text-align: center;}#sk-container-id-1 label.sk-toggleable__label-arrow:before {content: \"▸\";float: left;margin-right: 0.25em;color: #696969;}#sk-container-id-1 label.sk-toggleable__label-arrow:hover:before {color: black;}#sk-container-id-1 div.sk-estimator:hover label.sk-toggleable__label-arrow:before {color: black;}#sk-container-id-1 div.sk-toggleable__content {max-height: 0;max-width: 0;overflow: hidden;text-align: left;background-color: #f0f8ff;}#sk-container-id-1 div.sk-toggleable__content pre {margin: 0.2em;color: black;border-radius: 0.25em;background-color: #f0f8ff;}#sk-container-id-1 input.sk-toggleable__control:checked~div.sk-toggleable__content {max-height: 200px;max-width: 100%;overflow: auto;}#sk-container-id-1 input.sk-toggleable__control:checked~label.sk-toggleable__label-arrow:before {content: \"▾\";}#sk-container-id-1 div.sk-estimator input.sk-toggleable__control:checked~label.sk-toggleable__label {background-color: #d4ebff;}#sk-container-id-1 div.sk-label input.sk-toggleable__control:checked~label.sk-toggleable__label {background-color: #d4ebff;}#sk-container-id-1 input.sk-hidden--visually {border: 0;clip: rect(1px 1px 1px 1px);clip: rect(1px, 1px, 1px, 1px);height: 1px;margin: -1px;overflow: hidden;padding: 0;position: absolute;width: 1px;}#sk-container-id-1 div.sk-estimator {font-family: monospace;background-color: #f0f8ff;border: 1px dotted black;border-radius: 0.25em;box-sizing: border-box;margin-bottom: 0.5em;}#sk-container-id-1 div.sk-estimator:hover {background-color: #d4ebff;}#sk-container-id-1 div.sk-parallel-item::after {content: \"\";width: 100%;border-bottom: 1px solid gray;flex-grow: 1;}#sk-container-id-1 div.sk-label:hover label.sk-toggleable__label {background-color: #d4ebff;}#sk-container-id-1 div.sk-serial::before {content: \"\";position: absolute;border-left: 1px solid gray;box-sizing: border-box;top: 0;bottom: 0;left: 50%;z-index: 0;}#sk-container-id-1 div.sk-serial {display: flex;flex-direction: column;align-items: center;background-color: white;padding-right: 0.2em;padding-left: 0.2em;position: relative;}#sk-container-id-1 div.sk-item {position: relative;z-index: 1;}#sk-container-id-1 div.sk-parallel {display: flex;align-items: stretch;justify-content: center;background-color: white;position: relative;}#sk-container-id-1 div.sk-item::before, #sk-container-id-1 div.sk-parallel-item::before {content: \"\";position: absolute;border-left: 1px solid gray;box-sizing: border-box;top: 0;bottom: 0;left: 50%;z-index: -1;}#sk-container-id-1 div.sk-parallel-item {display: flex;flex-direction: column;z-index: 1;position: relative;background-color: white;}#sk-container-id-1 div.sk-parallel-item:first-child::after {align-self: flex-end;width: 50%;}#sk-container-id-1 div.sk-parallel-item:last-child::after {align-self: flex-start;width: 50%;}#sk-container-id-1 div.sk-parallel-item:only-child::after {width: 0;}#sk-container-id-1 div.sk-dashed-wrapped {border: 1px dashed gray;margin: 0 0.4em 0.5em 0.4em;box-sizing: border-box;padding-bottom: 0.4em;background-color: white;}#sk-container-id-1 div.sk-label label {font-family: monospace;font-weight: bold;display: inline-block;line-height: 1.2em;}#sk-container-id-1 div.sk-label-container {text-align: center;}#sk-container-id-1 div.sk-container {/* jupyter's `normalize.less` sets `[hidden] { display: none; }` but bootstrap.min.css set `[hidden] { display: none !important; }` so we also need the `!important` here to be able to override the default hidden behavior on the sphinx rendered scikit-learn.org. See: https://github.com/scikit-learn/scikit-learn/issues/21755 */display: inline-block !important;position: relative;}#sk-container-id-1 div.sk-text-repr-fallback {display: none;}</style><div id=\"sk-container-id-1\" class=\"sk-top-container\"><div class=\"sk-text-repr-fallback\"><pre>LinearRegression()</pre><b>In a Jupyter environment, please rerun this cell to show the HTML representation or trust the notebook. <br />On GitHub, the HTML representation is unable to render, please try loading this page with nbviewer.org.</b></div><div class=\"sk-container\" hidden><div class=\"sk-item\"><div class=\"sk-estimator sk-toggleable\"><input class=\"sk-toggleable__control sk-hidden--visually\" id=\"sk-estimator-id-1\" type=\"checkbox\" checked><label for=\"sk-estimator-id-1\" class=\"sk-toggleable__label sk-toggleable__label-arrow\">LinearRegression</label><div class=\"sk-toggleable__content\"><pre>LinearRegression()</pre></div></div></div></div></div>"
      ],
      "text/plain": [
       "LinearRegression()"
      ]
     },
     "execution_count": 46,
     "metadata": {},
     "output_type": "execute_result"
    }
   ],
   "source": [
    "model = LinearRegression()\n",
    "model.fit(X_train_scaled, y_train)"
   ]
  },
  {
   "cell_type": "markdown",
   "id": "2b6f03b6",
   "metadata": {},
   "source": [
    "**Model Interpretation**"
   ]
  },
  {
   "cell_type": "code",
   "execution_count": 47,
   "id": "e60bba1f",
   "metadata": {},
   "outputs": [],
   "source": [
    "y_pred = model.predict(X_test_scaled)"
   ]
  },
  {
   "cell_type": "code",
   "execution_count": 48,
   "id": "f6cdf4f8",
   "metadata": {},
   "outputs": [
    {
     "name": "stdout",
     "output_type": "stream",
     "text": [
      "Mean Squared Error: 39823.336182275554\n"
     ]
    }
   ],
   "source": [
    "mse = mean_squared_error(y_test, y_pred)\n",
    "print(f'Mean Squared Error: {mse}')"
   ]
  },
  {
   "cell_type": "code",
   "execution_count": 51,
   "id": "8f1f9c93",
   "metadata": {},
   "outputs": [
    {
     "name": "stdout",
     "output_type": "stream",
     "text": [
      "Coefficients: [   1.57955423   -4.79937798 -100.89896777  188.1771097     1.19168905\n",
      "   -4.35232155   -1.33391994    0.61759542   -0.63218299]\n",
      "Intercept: 435.0824136783915\n"
     ]
    }
   ],
   "source": [
    "print(\"Coefficients:\", model.coef_)\n",
    "print(\"Intercept:\", model.intercept_)"
   ]
  },
  {
   "cell_type": "markdown",
   "id": "8283e767",
   "metadata": {},
   "source": [
    "**Prediction**"
   ]
  },
  {
   "cell_type": "code",
   "execution_count": 53,
   "id": "8627a242",
   "metadata": {},
   "outputs": [],
   "source": [
    "random_customer = X_test.sample()"
   ]
  },
  {
   "cell_type": "code",
   "execution_count": 54,
   "id": "18bb389e",
   "metadata": {},
   "outputs": [
    {
     "name": "stdout",
     "output_type": "stream",
     "text": [
      "     unnamed:_0  customer_lifetime_value  income  monthly_premium_auto  \\\n",
      "900         900              13295.60284   68009                   110   \n",
      "\n",
      "     months_since_last_claim  months_since_policy_inception  \\\n",
      "900                      1.0                              2   \n",
      "\n",
      "     number_of_open_complaints  number_of_policies  month  \n",
      "900                        0.0                   2      2  \n"
     ]
    }
   ],
   "source": [
    "print(random_customer)"
   ]
  },
  {
   "cell_type": "code",
   "execution_count": 55,
   "id": "0640dcc7",
   "metadata": {},
   "outputs": [
    {
     "name": "stderr",
     "output_type": "stream",
     "text": [
      "/Users/ana/anaconda3/lib/python3.11/site-packages/sklearn/base.py:457: UserWarning: X has feature names, but LinearRegression was fitted without feature names\n",
      "  warnings.warn(\n"
     ]
    },
    {
     "data": {
      "text/plain": [
       "array([-6903299.90173723])"
      ]
     },
     "execution_count": 55,
     "metadata": {},
     "output_type": "execute_result"
    }
   ],
   "source": [
    "model.predict(random_customer)"
   ]
  },
  {
   "cell_type": "code",
   "execution_count": null,
   "id": "f113c8fc",
   "metadata": {},
   "outputs": [],
   "source": []
  }
 ],
 "metadata": {
  "kernelspec": {
   "display_name": "Python 3 (ipykernel)",
   "language": "python",
   "name": "python3"
  },
  "language_info": {
   "codemirror_mode": {
    "name": "ipython",
    "version": 3
   },
   "file_extension": ".py",
   "mimetype": "text/x-python",
   "name": "python",
   "nbconvert_exporter": "python",
   "pygments_lexer": "ipython3",
   "version": "3.11.5"
  }
 },
 "nbformat": 4,
 "nbformat_minor": 5
}
