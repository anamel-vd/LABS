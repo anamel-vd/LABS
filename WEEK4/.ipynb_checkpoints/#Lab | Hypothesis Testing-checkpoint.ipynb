{
 "cells": [
  {
   "cell_type": "markdown",
   "id": "0e58bf0a",
   "metadata": {},
   "source": [
    "#Lab | Hypothesis Testing"
   ]
  },
  {
   "cell_type": "markdown",
   "id": "d78ab891",
   "metadata": {},
   "source": [
    "**Instructions\n",
    "\n",
    "It is assumed that the mean systolic blood pressure is μ = 120 mm Hg. In the Honolulu Heart Study, a sample of n = 100 people had an average systolic blood pressure of 130.1 mm Hg with a standard deviation of 21.21 mm Hg. Is the group significantly different (with respect to systolic blood pressure!) from the regular population?\n",
    "\n",
    "-- Set up the hypothesis test.\n",
    "-- Write down all the steps followed for setting up the test.\n",
    "-- Calculate the test statistic by hand and also code it in Python. It should be 4.76190. \n",
    "-- What decision can you make based on this calculated value?\n"
   ]
  },
  {
   "cell_type": "code",
   "execution_count": 3,
   "id": "ec7b1fd6",
   "metadata": {},
   "outputs": [],
   "source": [
    "#Set up the hypothesis test. "
   ]
  },
  {
   "cell_type": "code",
   "execution_count": 4,
   "id": "12060d95",
   "metadata": {},
   "outputs": [],
   "source": [
    "import numpy as np\n",
    "import pandas as pd\n",
    "import scipy.stats as stats\n",
    "import matplotlib.pyplot as plt\n",
    "import seaborn as sns\n",
    "\n",
    "%matplotlib inline"
   ]
  },
  {
   "cell_type": "code",
   "execution_count": 5,
   "id": "d782d7d6",
   "metadata": {},
   "outputs": [],
   "source": [
    "population_mean = 120\n",
    "sample_mean = 130.1\n",
    "standard_deviation = 21.21 \n",
    "sample_size = 100\n"
   ]
  },
  {
   "cell_type": "markdown",
   "id": "9cd15768",
   "metadata": {},
   "source": [
    "#Problem statement\n",
    "\n",
    "Null Hypothesis : The mean systolic blood pressure in the study group is equal to the population mean (μ=120).\n",
    "Alternative Hypothesis : The mean systolic blood pressure in the study group is significantly different from the population mean (120μ).\n"
   ]
  },
  {
   "cell_type": "code",
   "execution_count": 7,
   "id": "2ca32940",
   "metadata": {},
   "outputs": [
    {
     "name": "stdout",
     "output_type": "stream",
     "text": [
      "t-score: 4.761904761904759\n"
     ]
    }
   ],
   "source": [
    "import numpy as np\n",
    "from scipy.stats import t\n",
    "\n",
    "t_score = (sample_mean - population_mean) / (standard_deviation / np.sqrt(sample_size))\n",
    "print(\"t-score:\", t_score)"
   ]
  },
  {
   "cell_type": "code",
   "execution_count": 9,
   "id": "29c35d65",
   "metadata": {},
   "outputs": [
    {
     "data": {
      "text/plain": [
       "1.9842169515086827"
      ]
     },
     "execution_count": 9,
     "metadata": {},
     "output_type": "execute_result"
    }
   ],
   "source": [
    "critical_value = stats.t.ppf(1-0.025, df=99)\n",
    "critical_value"
   ]
  },
  {
   "cell_type": "code",
   "execution_count": 10,
   "id": "ece3bfab",
   "metadata": {},
   "outputs": [],
   "source": [
    "# We can say we reject the Null Hypothesis. "
   ]
  },
  {
   "cell_type": "markdown",
   "id": "428f4c5e",
   "metadata": {},
   "source": [
    "** Comparing the z-score to the critical value: ∣4.76∣≫1.98\n",
    "\n",
    "Conclusion:\n",
    "Since the absolute value of the z-score is much greater than the critical value, the null hypothesis is rejected. This suggests that the mean systolic blood pressure in the study group is significantly different from the regular population.\n",
    "\n"
   ]
  },
  {
   "cell_type": "code",
   "execution_count": 12,
   "id": "b4cc67d1",
   "metadata": {},
   "outputs": [
    {
     "name": "stdout",
     "output_type": "stream",
     "text": [
      "p-value: 6.562701817208617e-06\n"
     ]
    }
   ],
   "source": [
    "p_value = 2 * t.sf(abs(t_score), df=99)#99 since the sample_size is 100.\n",
    "\n",
    "print(\"p-value:\", p_value)"
   ]
  },
  {
   "cell_type": "code",
   "execution_count": null,
   "id": "4d34b635",
   "metadata": {},
   "outputs": [],
   "source": []
  }
 ],
 "metadata": {
  "kernelspec": {
   "display_name": "Python 3 (ipykernel)",
   "language": "python",
   "name": "python3"
  },
  "language_info": {
   "codemirror_mode": {
    "name": "ipython",
    "version": 3
   },
   "file_extension": ".py",
   "mimetype": "text/x-python",
   "name": "python",
   "nbconvert_exporter": "python",
   "pygments_lexer": "ipython3",
   "version": "3.11.5"
  }
 },
 "nbformat": 4,
 "nbformat_minor": 5
}
