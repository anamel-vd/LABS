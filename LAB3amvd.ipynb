{
 "cells": [
  {
   "cell_type": "markdown",
   "id": "25d7736c-ba17-4aff-b6bb-66eba20fbf4e",
   "metadata": {},
   "source": [
    "# Lab | Functions"
   ]
  },
  {
   "cell_type": "markdown",
   "id": "0c581062-8967-4d93-b06e-62833222f930",
   "metadata": {
    "tags": []
   },
   "source": [
    "## Exercise: Managing Customer Orders with Functions\n",
    "\n",
    "In the previous exercise, you improved the code for managing customer orders by using loops and flow control. Now, let's take it a step further and refactor the code by introducing functions.\n",
    "\n",
    "Follow the steps below to complete the exercise:\n",
    "\n",
    "1. Define a function named `initialize_inventory` that takes `products` as a parameter. Inside the function, implement the code for initializing the inventory dictionary using a loop and user input.\n",
    "\n",
    "2. Define a function named `get_customer_orders` that takes no parameters. Inside the function, implement the code for prompting the user to enter the product names using a loop. The function should return the `customer_orders` set.\n",
    "\n",
    "3. Define a function named `update_inventory` that takes `customer_orders` and `inventory` as parameters. Inside the function, implement the code for updating the inventory dictionary based on the customer orders.\n",
    "\n",
    "4. Define a function named `calculate_order_statistics` that takes `customer_orders` and `products` as parameters. Inside the function, implement the code for calculating the order statistics (total products ordered, and percentage of unique products ordered). The function should return these values.\n",
    "\n",
    "5. Define a function named `print_order_statistics` that takes `order_statistics` as a parameter. Inside the function, implement the code for printing the order statistics.\n",
    "\n",
    "6. Define a function named `print_updated_inventory` that takes `inventory` as a parameter. Inside the function, implement the code for printing the updated inventory.\n",
    "\n",
    "7. Call the functions in the appropriate sequence to execute the program and manage customer orders.\n",
    "\n",
    "Hints for functions:\n",
    "\n",
    "- Consider the input parameters required for each function and their return values.\n",
    "- Utilize function parameters and return values to transfer data between functions.\n",
    "- Test your functions individually to ensure they work correctly.\n",
    "\n",
    "\n"
   ]
  },
  {
   "cell_type": "code",
   "execution_count": 66,
   "id": "dd274866",
   "metadata": {},
   "outputs": [
    {
     "name": "stdout",
     "output_type": "stream",
     "text": [
      "Enter the quantity of item: 7\n",
      "Enter the quantity of item: 9\n",
      "Enter the quantity of item: 4\n",
      "Enter the quantity of item: 6\n",
      "Enter the quantity of item: 2\n",
      "{'t-shirt': 7, 'mug': 9, 'hat': 4, 'book': 6, 'keychain': 2}\n"
     ]
    }
   ],
   "source": [
    "'''Update the inventory by \n",
    "subtracting 1 from the quantity of each product. \n",
    "Modify the inventory dictionary accordingly.'''\n",
    "\n",
    "#Define a function named initialize_inventory that takes products as a parameter. Inside the function, implement the code for initializing the inventory dictionary using a loop and user input.\n",
    "def initialize_inventory(products):\n",
    "    inventory = {}\n",
    "    #products = [\"item1\", \"item2\"]\n",
    "    for p in products:\n",
    "        qty = input(\"Enter the quantity of item: \")\n",
    "        inventory[p] = int(qty)\n",
    "    return inventory\n",
    "   \n",
    "my_inventory = initialize_inventory([\"t-shirt\", \"mug\", \"hat\", \"book\", \"keychain\"])\n",
    "print(my_inventory)\n"
   ]
  },
  {
   "cell_type": "code",
   "execution_count": 67,
   "id": "0b2156ec",
   "metadata": {},
   "outputs": [
    {
     "name": "stdout",
     "output_type": "stream",
     "text": [
      "Enter the name of the product the customer wants to order: t-shirt\n",
      "Do you want to add another product? (yes/no): yes\n",
      "Enter the name of the product the customer wants to order: mug\n",
      "Do you want to add another product? (yes/no): hat\n",
      "{'t-shirt', 'mug'}\n"
     ]
    }
   ],
   "source": [
    "#Define a function named get_customer_orders that takes no parameters. Inside the function, implement the code for prompting the user to enter the product names using a loop. The function should return the customer_orders set.\n",
    "\n",
    "def get_customer_orders():   \n",
    " \n",
    "    customer_orders = set()\n",
    "    \n",
    "    while True:\n",
    "        product_name = input(\"Enter the name of the product the customer wants to order: \")\n",
    "        customer_orders.add(product_name)\n",
    "\n",
    "        another_product = input(\"Do you want to add another product? (yes/no): \")\n",
    "        if another_product != 'yes':\n",
    "            break\n",
    "            \n",
    "    return customer_orders\n",
    "    \n",
    "my_customer_orders = get_customer_orders()\n",
    "print(my_customer_orders)\n"
   ]
  },
  {
   "cell_type": "code",
   "execution_count": 71,
   "id": "d1485aa9",
   "metadata": {},
   "outputs": [
    {
     "name": "stdout",
     "output_type": "stream",
     "text": [
      "{'t-shirt': 0, 'mug': 0, 'hat': 4, 'book': 6, 'keychain': 2}\n"
     ]
    }
   ],
   "source": [
    "#Define a function named update_inventory that takes customer_orders and inventory as parameters. Inside the function, implement the code for updating the inventory dictionary based on the customer orders.\n",
    "\n",
    "def update_inventory(customer_orders, inventory):\n",
    "    for co in customer_orders:\n",
    "        #print(co)\n",
    "        inventory.update({co: 0})\n",
    "    \n",
    "\n",
    "update_inventory(my_customer_orders, my_inventory)\n",
    "print(my_inventory)"
   ]
  },
  {
   "cell_type": "code",
   "execution_count": 70,
   "id": "c2c8905c",
   "metadata": {},
   "outputs": [],
   "source": [
    "#Define a function named calculate_order_statistics that takes customer_orders and products as parameters. Inside the function, implement the code for calculating the order statistics (total products ordered, and percentage of unique products ordered). The function should return these values.\n",
    "\n",
    "def calculate_order_statistics(customer_orders, products):\n",
    "    order\n",
    "    total_product_ordered = len(customer_orders)\n",
    "\n",
    "    print(total_product_ordered)\n"
   ]
  },
  {
   "cell_type": "code",
   "execution_count": null,
   "id": "36c01b8e",
   "metadata": {},
   "outputs": [],
   "source": [
    "#Define a function named print_order_statistics that takes order_statistics as a parameter. Inside the function, implement the code for printing the order statistics.\n",
    " def print_order_statistics(order_statistics):\n",
    "        "
   ]
  },
  {
   "cell_type": "code",
   "execution_count": 47,
   "id": "7978d704",
   "metadata": {},
   "outputs": [
    {
     "name": "stdout",
     "output_type": "stream",
     "text": [
      "<function print_updated_inventory at 0x1069fbb00>\n"
     ]
    }
   ],
   "source": [
    "#Define a function named print_updated_inventory that takes inventory as a parameter. Inside the function, implement the code for printing the updated inventory.\n",
    "\n",
    "def print_updated_inventory(inventory):\n",
    "    return inventory.update()\n",
    "\n",
    "print(print_updated_inventory)"
   ]
  },
  {
   "cell_type": "code",
   "execution_count": null,
   "id": "beef7b9d",
   "metadata": {},
   "outputs": [],
   "source": [
    "#Call the functions in the appropriate sequence to execute the program and manage customer orders.\n",
    "\n"
   ]
  }
 ],
 "metadata": {
  "kernelspec": {
   "display_name": "Python 3 (ipykernel)",
   "language": "python",
   "name": "python3"
  },
  "language_info": {
   "codemirror_mode": {
    "name": "ipython",
    "version": 3
   },
   "file_extension": ".py",
   "mimetype": "text/x-python",
   "name": "python",
   "nbconvert_exporter": "python",
   "pygments_lexer": "ipython3",
   "version": "3.11.5"
  }
 },
 "nbformat": 4,
 "nbformat_minor": 5
}
